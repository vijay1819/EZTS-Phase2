{
 "cells": [
  {
   "cell_type": "code",
   "execution_count": 12,
   "id": "def8feb5",
   "metadata": {},
   "outputs": [],
   "source": [
    " a = 23"
   ]
  },
  {
   "cell_type": "code",
   "execution_count": 9,
   "id": "cbe8b6ec",
   "metadata": {},
   "outputs": [],
   "source": [
    "a = 45"
   ]
  },
  {
   "cell_type": "code",
   "execution_count": 13,
   "id": "23c45118",
   "metadata": {},
   "outputs": [
    {
     "name": "stdout",
     "output_type": "stream",
     "text": [
      "23\n"
     ]
    }
   ],
   "source": [
    "print(a)"
   ]
  },
  {
   "cell_type": "code",
   "execution_count": 2,
   "id": "972837ca",
   "metadata": {},
   "outputs": [
    {
     "data": {
      "text/plain": [
       "3"
      ]
     },
     "execution_count": 2,
     "metadata": {},
     "output_type": "execute_result"
    }
   ],
   "source": [
    "1 +2"
   ]
  },
  {
   "cell_type": "code",
   "execution_count": 14,
   "id": "94e459fb",
   "metadata": {},
   "outputs": [
    {
     "data": {
      "text/plain": [
       "int"
      ]
     },
     "execution_count": 14,
     "metadata": {},
     "output_type": "execute_result"
    }
   ],
   "source": [
    "type(a)"
   ]
  },
  {
   "cell_type": "code",
   "execution_count": 15,
   "id": "cfab9e0b",
   "metadata": {},
   "outputs": [],
   "source": [
    "b = 21.77"
   ]
  },
  {
   "cell_type": "code",
   "execution_count": 16,
   "id": "ee096725",
   "metadata": {},
   "outputs": [
    {
     "data": {
      "text/plain": [
       "float"
      ]
     },
     "execution_count": 16,
     "metadata": {},
     "output_type": "execute_result"
    }
   ],
   "source": [
    "type(b)"
   ]
  },
  {
   "cell_type": "code",
   "execution_count": 17,
   "id": "e9359876",
   "metadata": {},
   "outputs": [],
   "source": [
    "c= \"sahil\""
   ]
  },
  {
   "cell_type": "code",
   "execution_count": 18,
   "id": "bc972b5b",
   "metadata": {},
   "outputs": [
    {
     "data": {
      "text/plain": [
       "str"
      ]
     },
     "execution_count": 18,
     "metadata": {},
     "output_type": "execute_result"
    }
   ],
   "source": [
    "type(c)"
   ]
  },
  {
   "cell_type": "code",
   "execution_count": 21,
   "id": "0e23905d",
   "metadata": {},
   "outputs": [],
   "source": [
    "d = \"sahil\""
   ]
  },
  {
   "cell_type": "code",
   "execution_count": 22,
   "id": "2c3c9bb5",
   "metadata": {},
   "outputs": [
    {
     "data": {
      "text/plain": [
       "str"
      ]
     },
     "execution_count": 22,
     "metadata": {},
     "output_type": "execute_result"
    }
   ],
   "source": [
    "type(d)"
   ]
  },
  {
   "cell_type": "markdown",
   "id": "6186c211",
   "metadata": {},
   "source": [
    "# comments"
   ]
  },
  {
   "cell_type": "code",
   "execution_count": 25,
   "id": "d1d775b3",
   "metadata": {},
   "outputs": [
    {
     "name": "stdout",
     "output_type": "stream",
     "text": [
      "this is my comment\n"
     ]
    }
   ],
   "source": [
    "# this is my single line comment \n",
    "print(\"this is my comment\")"
   ]
  },
  {
   "cell_type": "code",
   "execution_count": 26,
   "id": "73e1bf18",
   "metadata": {},
   "outputs": [
    {
     "name": "stdout",
     "output_type": "stream",
     "text": [
      "this is my multi line comment\n"
     ]
    }
   ],
   "source": [
    "# this is my\n",
    "# multi line\n",
    "# comment\n",
    "print(\"this is my multi line comment\")"
   ]
  },
  {
   "cell_type": "code",
   "execution_count": 28,
   "id": "b1ea30d6",
   "metadata": {},
   "outputs": [],
   "source": [
    "a = '''this is\n",
    "my multi line\n",
    "comment'''"
   ]
  },
  {
   "cell_type": "code",
   "execution_count": 29,
   "id": "bd8563f7",
   "metadata": {},
   "outputs": [
    {
     "data": {
      "text/plain": [
       "'this is\\nmy multi line\\ncomment'"
      ]
     },
     "execution_count": 29,
     "metadata": {},
     "output_type": "execute_result"
    }
   ],
   "source": [
    "a"
   ]
  },
  {
   "cell_type": "code",
   "execution_count": 30,
   "id": "07f79205",
   "metadata": {},
   "outputs": [
    {
     "data": {
      "text/plain": [
       "str"
      ]
     },
     "execution_count": 30,
     "metadata": {},
     "output_type": "execute_result"
    }
   ],
   "source": [
    "type(a)"
   ]
  },
  {
   "cell_type": "code",
   "execution_count": 35,
   "id": "3d904819",
   "metadata": {},
   "outputs": [],
   "source": [
    "name1=\"sahil\""
   ]
  },
  {
   "cell_type": "code",
   "execution_count": 36,
   "id": "52b71fd2",
   "metadata": {},
   "outputs": [
    {
     "name": "stdout",
     "output_type": "stream",
     "text": [
      "sahil\n"
     ]
    }
   ],
   "source": [
    "print(name1)"
   ]
  },
  {
   "cell_type": "code",
   "execution_count": 37,
   "id": "4be9e65b",
   "metadata": {},
   "outputs": [
    {
     "name": "stdout",
     "output_type": "stream",
     "text": [
      "sahil\n"
     ]
    }
   ],
   "source": [
    "print(name1)"
   ]
  },
  {
   "cell_type": "code",
   "execution_count": 38,
   "id": "26e1cbe1",
   "metadata": {},
   "outputs": [],
   "source": [
    "f_name = \"sahil\"\n",
    "l_name = \"sangole\""
   ]
  },
  {
   "cell_type": "code",
   "execution_count": 45,
   "id": "b3750562",
   "metadata": {},
   "outputs": [],
   "source": [
    "full_name = f_name +\" \"+ l_name"
   ]
  },
  {
   "cell_type": "code",
   "execution_count": 46,
   "id": "9c2467fa",
   "metadata": {},
   "outputs": [
    {
     "name": "stdout",
     "output_type": "stream",
     "text": [
      "sahil sangole\n"
     ]
    }
   ],
   "source": [
    "print(full_name)"
   ]
  },
  {
   "cell_type": "code",
   "execution_count": 47,
   "id": "5c01016d",
   "metadata": {},
   "outputs": [],
   "source": [
    "a = 4 \n",
    "b = 7"
   ]
  },
  {
   "cell_type": "code",
   "execution_count": 48,
   "id": "24e945d7",
   "metadata": {},
   "outputs": [],
   "source": [
    "_sum = a + b\n",
    "mul= a*b\n",
    "_pow = a**2\n",
    "div = a/b\n",
    "ddiv = a//b"
   ]
  },
  {
   "cell_type": "code",
   "execution_count": 49,
   "id": "8635aab7",
   "metadata": {},
   "outputs": [
    {
     "name": "stdout",
     "output_type": "stream",
     "text": [
      "11\n",
      "28\n",
      "16\n",
      "0.5714285714285714\n",
      "0\n"
     ]
    }
   ],
   "source": [
    "print(_sum)\n",
    "print(mul)\n",
    "print(_pow)\n",
    "print(div)\n",
    "print(ddiv)"
   ]
  },
  {
   "cell_type": "code",
   "execution_count": 50,
   "id": "d6321686",
   "metadata": {},
   "outputs": [
    {
     "data": {
      "text/plain": [
       "0"
      ]
     },
     "execution_count": 50,
     "metadata": {},
     "output_type": "execute_result"
    }
   ],
   "source": [
    "6//8"
   ]
  },
  {
   "cell_type": "code",
   "execution_count": 52,
   "id": "a18c1aa0",
   "metadata": {},
   "outputs": [
    {
     "data": {
      "text/plain": [
       "0"
      ]
     },
     "execution_count": 52,
     "metadata": {},
     "output_type": "execute_result"
    }
   ],
   "source": [
    "_sum\n",
    "mul\n",
    "div\n",
    "ddiv"
   ]
  },
  {
   "cell_type": "code",
   "execution_count": 53,
   "id": "25b2fc73",
   "metadata": {},
   "outputs": [
    {
     "name": "stdout",
     "output_type": "stream",
     "text": [
      "4\n",
      "7\n"
     ]
    }
   ],
   "source": [
    "print(a)\n",
    "print(b)"
   ]
  },
  {
   "cell_type": "code",
   "execution_count": 54,
   "id": "26b0778f",
   "metadata": {},
   "outputs": [],
   "source": [
    "a+=1"
   ]
  },
  {
   "cell_type": "code",
   "execution_count": 55,
   "id": "266e2e93",
   "metadata": {},
   "outputs": [
    {
     "name": "stdout",
     "output_type": "stream",
     "text": [
      "5\n"
     ]
    }
   ],
   "source": [
    "print(a)"
   ]
  },
  {
   "cell_type": "code",
   "execution_count": 56,
   "id": "c3aae7e8",
   "metadata": {},
   "outputs": [],
   "source": [
    "a-=1"
   ]
  },
  {
   "cell_type": "code",
   "execution_count": 57,
   "id": "94a31dc2",
   "metadata": {},
   "outputs": [
    {
     "name": "stdout",
     "output_type": "stream",
     "text": [
      "4\n"
     ]
    }
   ],
   "source": [
    "print(a)"
   ]
  },
  {
   "cell_type": "code",
   "execution_count": 58,
   "id": "1af291e0",
   "metadata": {},
   "outputs": [],
   "source": [
    "a+=b"
   ]
  },
  {
   "cell_type": "code",
   "execution_count": 59,
   "id": "f42b4364",
   "metadata": {},
   "outputs": [
    {
     "name": "stdout",
     "output_type": "stream",
     "text": [
      "11\n"
     ]
    }
   ],
   "source": [
    "print(a)"
   ]
  },
  {
   "cell_type": "code",
   "execution_count": 60,
   "id": "a56b10d6",
   "metadata": {},
   "outputs": [
    {
     "name": "stdout",
     "output_type": "stream",
     "text": [
      "18\n"
     ]
    }
   ],
   "source": [
    "print(a + b)"
   ]
  },
  {
   "cell_type": "code",
   "execution_count": 61,
   "id": "305b7281",
   "metadata": {},
   "outputs": [
    {
     "data": {
      "text/plain": [
       "True"
      ]
     },
     "execution_count": 61,
     "metadata": {},
     "output_type": "execute_result"
    }
   ],
   "source": [
    "a>b"
   ]
  },
  {
   "cell_type": "code",
   "execution_count": 62,
   "id": "f307df27",
   "metadata": {},
   "outputs": [
    {
     "data": {
      "text/plain": [
       "False"
      ]
     },
     "execution_count": 62,
     "metadata": {},
     "output_type": "execute_result"
    }
   ],
   "source": [
    "b>a"
   ]
  },
  {
   "cell_type": "code",
   "execution_count": 63,
   "id": "ee68dbf1",
   "metadata": {},
   "outputs": [
    {
     "data": {
      "text/plain": [
       "False"
      ]
     },
     "execution_count": 63,
     "metadata": {},
     "output_type": "execute_result"
    }
   ],
   "source": [
    "a==b"
   ]
  },
  {
   "cell_type": "code",
   "execution_count": 69,
   "id": "1720144a",
   "metadata": {},
   "outputs": [
    {
     "name": "stdout",
     "output_type": "stream",
     "text": [
      "True\n",
      "True\n",
      "False\n"
     ]
    }
   ],
   "source": [
    "print(True or True)\n",
    "print(True or False)\n",
    "print(False or False)"
   ]
  },
  {
   "cell_type": "code",
   "execution_count": 71,
   "id": "d7d5f176",
   "metadata": {},
   "outputs": [],
   "source": [
    "a = 10\n",
    "b = 100\n",
    "c = 9"
   ]
  },
  {
   "cell_type": "code",
   "execution_count": 78,
   "id": "2c816338",
   "metadata": {},
   "outputs": [
    {
     "name": "stdout",
     "output_type": "stream",
     "text": [
      "True\n",
      "False\n"
     ]
    }
   ],
   "source": [
    "print(a>c or a>b)\n",
    "print(a>c and a>b)"
   ]
  },
  {
   "cell_type": "code",
   "execution_count": 77,
   "id": "80ca79f1",
   "metadata": {},
   "outputs": [
    {
     "data": {
      "text/plain": [
       "True"
      ]
     },
     "execution_count": 77,
     "metadata": {},
     "output_type": "execute_result"
    }
   ],
   "source": [
    "not False"
   ]
  },
  {
   "cell_type": "code",
   "execution_count": 79,
   "id": "97ecd5b5",
   "metadata": {},
   "outputs": [
    {
     "name": "stdout",
     "output_type": "stream",
     "text": [
      "Area of Circle 50.24\n"
     ]
    }
   ],
   "source": [
    "r=4\n",
    "area=3.14*r**2\n",
    "print(\"Area of Circle\",area)"
   ]
  },
  {
   "cell_type": "code",
   "execution_count": 81,
   "id": "5abc098f",
   "metadata": {},
   "outputs": [
    {
     "name": "stdout",
     "output_type": "stream",
     "text": [
      "entre the Radius54.2\n",
      "Area of Circle 9224.189600000002\n"
     ]
    }
   ],
   "source": [
    "r=float(input(\"entre the Radius\"))\n",
    "area=3.14*r**2\n",
    "print(\"Area of Circle\",area)"
   ]
  },
  {
   "cell_type": "code",
   "execution_count": 1,
   "id": "28b7af76",
   "metadata": {},
   "outputs": [
    {
     "name": "stdout",
     "output_type": "stream",
     "text": [
      "Enter the length of rectangle:24\n",
      "Enter the breadth of rectangle:26\n",
      "perimeter= 100.0 area= 624.0\n"
     ]
    }
   ],
   "source": [
    "l= float(input(\"Enter the length of rectangle:\"))\n",
    "b= float(input(\"Enter the breadth of rectangle:\"))\n",
    "perimeter_rect=2*(l+b)\n",
    "area_rect=l*b\n",
    "print(\"perimeter=\",perimeter_rect,\"area=\",area_rect)"
   ]
  },
  {
   "cell_type": "code",
   "execution_count": 4,
   "id": "129107c5",
   "metadata": {},
   "outputs": [
    {
     "name": "stdout",
     "output_type": "stream",
     "text": [
      "Enter  degree in fahrenheit=32\n",
      "Degree in celsius= 0.0\n"
     ]
    }
   ],
   "source": [
    "far=float(input(\"Enter  degree in fahrenheit=\"))\n",
    "celsius=(far-32)*5/9\n",
    "print(\"Degree in celsius=\",celsius)"
   ]
  },
  {
   "cell_type": "code",
   "execution_count": 5,
   "id": "0960af7f",
   "metadata": {},
   "outputs": [
    {
     "name": "stdout",
     "output_type": "stream",
     "text": [
      "enter number 14\n",
      "enter number 28\n",
      "average of twwo numbers is 6.0\n"
     ]
    }
   ],
   "source": [
    "num1=int(input(\"enter number 1\"))\n",
    "num2=int(input(\"enter number 2\"))\n",
    "sum=num1+num2\n",
    "average=sum/2\n",
    "print(\"average of twwo numbers is\",average)\n"
   ]
  },
  {
   "cell_type": "code",
   "execution_count": 6,
   "id": "e2ee6aa9",
   "metadata": {},
   "outputs": [
    {
     "name": "stdout",
     "output_type": "stream",
     "text": [
      "<class 'float'>\n"
     ]
    }
   ],
   "source": [
    "print(type(average))"
   ]
  },
  {
   "cell_type": "code",
   "execution_count": 7,
   "id": "1fe74978",
   "metadata": {},
   "outputs": [
    {
     "name": "stdout",
     "output_type": "stream",
     "text": [
      "enter the value24\n",
      "576.0\n"
     ]
    }
   ],
   "source": [
    "a=float(input(\"enter the value\"))\n",
    "b=a**2\n",
    "print(b)"
   ]
  },
  {
   "cell_type": "code",
   "execution_count": 11,
   "id": "c30da4a4",
   "metadata": {},
   "outputs": [
    {
     "name": "stdout",
     "output_type": "stream",
     "text": [
      "apple mat lo\n"
     ]
    }
   ],
   "source": [
    "apple_price = 1000\n",
    "bugut = 500\n",
    "if (apple_price > bugut):\n",
    "    print(\"apple mat lo\")\n",
    "else:\n",
    "    print(\"apple lelo\")\n"
   ]
  },
  {
   "cell_type": "code",
   "execution_count": 27,
   "id": "05970bab",
   "metadata": {},
   "outputs": [
    {
     "name": "stdout",
     "output_type": "stream",
     "text": [
      "Enter number:0\n",
      "The number is Zero\n"
     ]
    }
   ],
   "source": [
    "a = int(input(\"Enter number:\"))\n",
    "if (a==0):\n",
    "    print(\"The number is Zero\")\n",
    "else:\n",
    "    print(\"The number is non zero\")"
   ]
  },
  {
   "cell_type": "code",
   "execution_count": 29,
   "id": "9372eebe",
   "metadata": {},
   "outputs": [
    {
     "name": "stdout",
     "output_type": "stream",
     "text": [
      "Enter any non-zero no:0\n",
      "Number is Negative\n"
     ]
    }
   ],
   "source": [
    "a=int(input(\"Enter any non-zero no:\"))\n",
    "if(a>0):\n",
    "    print(\"Number is Positive\")\n",
    "else:\n",
    "    print(\"Number is Negative\")"
   ]
  },
  {
   "cell_type": "code",
   "execution_count": 28,
   "id": "2a84d79b",
   "metadata": {},
   "outputs": [
    {
     "name": "stdout",
     "output_type": "stream",
     "text": [
      "Enter any non-zero no:0\n",
      "Number is Positive\n"
     ]
    }
   ],
   "source": [
    "a=int(input(\"Enter any non-zero no:\"))\n",
    "if(a>=0):\n",
    "    print(\"Number is Positive\")\n",
    "else:\n",
    "    print(\"Number is Negative\")"
   ]
  },
  {
   "cell_type": "code",
   "execution_count": 32,
   "id": "b2d8b5f6",
   "metadata": {},
   "outputs": [
    {
     "ename": "IndentationError",
     "evalue": "expected an indented block (466835182.py, line 6)",
     "output_type": "error",
     "traceback": [
      "\u001b[1;36m  Input \u001b[1;32mIn [32]\u001b[1;36m\u001b[0m\n\u001b[1;33m    print(\"Number is negative\")\u001b[0m\n\u001b[1;37m    ^\u001b[0m\n\u001b[1;31mIndentationError\u001b[0m\u001b[1;31m:\u001b[0m expected an indented block\n"
     ]
    }
   ],
   "source": [
    "a=int(input(\"Enter any non-zero no:\"))\n",
    "if(a>0):\n",
    "    print(\"Nu.mber is positive\")\n",
    "else:\n",
    "    if(a<0):\n",
    "    print(\"Number is negative\")\n",
    "else:\n",
    "    print(\"0\")"
   ]
  },
  {
   "cell_type": "code",
   "execution_count": 41,
   "id": "e95f9ec8",
   "metadata": {},
   "outputs": [
    {
     "name": "stdout",
     "output_type": "stream",
     "text": [
      "Enter any number: \n"
     ]
    },
    {
     "ename": "ValueError",
     "evalue": "invalid literal for int() with base 10: ''",
     "output_type": "error",
     "traceback": [
      "\u001b[1;31m---------------------------------------------------------------------------\u001b[0m",
      "\u001b[1;31mValueError\u001b[0m                                Traceback (most recent call last)",
      "Input \u001b[1;32mIn [41]\u001b[0m, in \u001b[0;36m<cell line: 1>\u001b[1;34m()\u001b[0m\n\u001b[1;32m----> 1\u001b[0m a\u001b[38;5;241m=\u001b[39m\u001b[38;5;28;43mint\u001b[39;49m\u001b[43m(\u001b[49m\u001b[38;5;28;43minput\u001b[39;49m\u001b[43m(\u001b[49m\u001b[38;5;124;43m\"\u001b[39;49m\u001b[38;5;124;43mEnter any number: \u001b[39;49m\u001b[38;5;124;43m\"\u001b[39;49m\u001b[43m)\u001b[49m\u001b[43m)\u001b[49m\n\u001b[0;32m      2\u001b[0m \u001b[38;5;28;01mif\u001b[39;00m a\u001b[38;5;241m>\u001b[39m\u001b[38;5;241m=\u001b[39m\u001b[38;5;241m0\u001b[39m:\n\u001b[0;32m      3\u001b[0m     \u001b[38;5;28;01mif\u001b[39;00m a\u001b[38;5;241m==\u001b[39m\u001b[38;5;241m0\u001b[39m:\n",
      "\u001b[1;31mValueError\u001b[0m: invalid literal for int() with base 10: ''"
     ]
    }
   ],
   "source": [
    "a=int(input(\"Enter any number: \"))\n",
    "if a>=0:\n",
    "    if a==0:\n",
    "        print(\"zero\")\n",
    "    else:\n",
    "        print(\"positive\")\n",
    "else:\n",
    "    print(\"negative\")\n",
    "    \n",
    "    \n",
    "    \n",
    "    `"
   ]
  },
  {
   "cell_type": "code",
   "execution_count": 40,
   "id": "4f87fa4a",
   "metadata": {},
   "outputs": [
    {
     "name": "stdout",
     "output_type": "stream",
     "text": [
      "enter the number-1\n",
      "negative\n"
     ]
    }
   ],
   "source": [
    "a=int(input(\"enter the number\"))\n",
    "if (a>0):\n",
    "    print(\"positive\")\n",
    "if (a<0):\n",
    "    print(\"negative\")\n",
    "if (a==0):\n",
    "    print(\"zero\")"
   ]
  },
  {
   "cell_type": "markdown",
   "id": "738fd00e",
   "metadata": {},
   "source": [
    "1. Take values of length and breadth of a rectangle from user and check if it is square or not.\n"
   ]
  },
  {
   "cell_type": "code",
   "execution_count": 43,
   "id": "c314d14a",
   "metadata": {},
   "outputs": [
    {
     "name": "stdout",
     "output_type": "stream",
     "text": [
      "Enter the Length: 10\n",
      "Enter the Breadth: 15\n",
      "It is Rectangle\n"
     ]
    }
   ],
   "source": [
    "L = float(input(\"Enter the Length: \"))\n",
    "B = float(input(\"Enter the Breadth: \"))\n",
    "if(L==B):\n",
    "    print(\"It is Square\")\n",
    "else:\n",
    "    print(\"It is Rectangle\")"
   ]
  },
  {
   "cell_type": "markdown",
   "id": "53b0fd55",
   "metadata": {},
   "source": [
    "2. A shop will give discount of 10% if the cost of purchased quantity is more than 1000.Ask user for quantitySuppose, one unit will cost 100. Judge and print total cost for user."
   ]
  },
  {
   "cell_type": "code",
   "execution_count": 50,
   "id": "ea6b7997",
   "metadata": {},
   "outputs": [
    {
     "name": "stdout",
     "output_type": "stream",
     "text": [
      "enter quantity11\n",
      "\n",
      "total amount  990.0\n"
     ]
    }
   ],
   "source": [
    "qa=int(input(\"enter quantity\"))\n",
    "rs_q=qa*100\n",
    "if (rs_q>1000):\n",
    "    dis=rs_q*(10/100)\n",
    "    print()\n",
    "    total_cost=rs_q-dis\n",
    "    print(\"total amount \",total_cost)\n",
    "else:\n",
    "    print(\"aur saman lele\")"
   ]
  },
  {
   "cell_type": "markdown",
   "id": "09cbc85a",
   "metadata": {},
   "source": [
    "3. A school has following rules for grading system:                                                                     a. Below 25 - F.                                       b. 25 to 45 - E. \n",
    "            c. 45 to 50 - D.\n",
    "            d. 50 to 60 - C.                                       e. 60 to 80 - B.\n",
    "            f. Above 80 - A. "
   ]
  },
  {
   "cell_type": "code",
   "execution_count": 52,
   "id": "f3d7f237",
   "metadata": {},
   "outputs": [
    {
     "name": "stdout",
     "output_type": "stream",
     "text": [
      "Enter Your Marks: 80\n",
      "B\n"
     ]
    }
   ],
   "source": [
    "M = int(input(\"Enter Your Marks: \"))\n",
    "if(M<25):\n",
    "    print(\"F\")\n",
    "elif(M>=25 and M<45):\n",
    "    print(\"E\")\n",
    "elif(M>=45 and M<50):\n",
    "    print(\"D\")\n",
    "elif(M>=50 and M<60):\n",
    "    print(\"C\")\n",
    "elif(M>=60 and M<=80):\n",
    "    print(\"B\")\n",
    "else:\n",
    "    print(\"A\")"
   ]
  },
  {
   "cell_type": "markdown",
   "id": "940f8bbe",
   "metadata": {},
   "source": [
    "4. Take input of age of 3 people by user and determine oldest and youngest among them\n"
   ]
  },
  {
   "cell_type": "code",
   "execution_count": 60,
   "id": "94161754",
   "metadata": {},
   "outputs": [
    {
     "name": "stdout",
     "output_type": "stream",
     "text": [
      "Enter Person 1:9\n",
      "Enter Person 2:6\n",
      "Enter Person 3:10\n",
      "Person 3 is Oldest\n"
     ]
    }
   ],
   "source": [
    "p1=int(input(\"Enter Person 1:\"))\n",
    "p2=int(input(\"Enter Person 2:\"))\n",
    "p3=int(input(\"Enter Person 3:\"))\n",
    "\n",
    "if(p1>p2 and p1>p3):\n",
    "    print(\"\\nPerson 1 is Oldest\")\n",
    "    \n",
    "elif(p2>p1 and p2>p3):\n",
    "    print(\"Person 2 is Oldest\")\n",
    "    \n",
    "else:\n",
    "    print(\"Person 3 is Oldest\")\n",
    "    \n"
   ]
  },
  {
   "cell_type": "code",
   "execution_count": 61,
   "id": "2bdd1ffd",
   "metadata": {},
   "outputs": [
    {
     "name": "stdout",
     "output_type": "stream",
     "text": [
      "Person 2 is Youngest\n"
     ]
    }
   ],
   "source": [
    "if(p1<p2 and p1<p3):\n",
    "    print(\"Person 1 is Youngest\")\n",
    "    \n",
    "elif(p2<p1 and p2<p3):\n",
    "    print(\"Person 2 is Youngest\")\n",
    "    \n",
    "else:\n",
    "    print(\"Person 3 is Youngest\")"
   ]
  },
  {
   "cell_type": "markdown",
   "id": "ce3b180a",
   "metadata": {},
   "source": [
    "5. Write a program to accept the cost price of a bike and display the road tax to be paid according to the following criteria\n",
    "\n",
    "cost price (in rs)                    tax\n",
    "  > 100000                            15%\n",
    "  > 50000 and <= 100000               10%\n",
    "  <= 50000                            05%"
   ]
  },
  {
   "cell_type": "code",
   "execution_count": 7,
   "id": "69db5a08",
   "metadata": {},
   "outputs": [
    {
     "name": "stdout",
     "output_type": "stream",
     "text": [
      "Enter the Price of Vehicle in Rs. : 20000\n",
      "Your vehicle's Road tax will be in Rs. : 1000.0\n"
     ]
    }
   ],
   "source": [
    "v_price=float(input(\"Enter the Price of Vehicle in Rs. : \"))\n",
    "if(v_price>100000):\n",
    "    tax=v_price*(15/100)\n",
    "    print(\"Your vehicle's Road tax will be in Rs. :\",tax)\n",
    "elif(v_price>50000 and v_price<=100000):\n",
    "    tax=v_price*(10/100)\n",
    "    print(\"Your vehicle's Road tax will be in Rs. :\",tax)\n",
    "else:\n",
    "    tax=v_price*(5/100)\n",
    "    print(\"Your vehicle's Road tax will be in Rs. :\",tax)\n",
    "    \n",
    "\n"
   ]
  },
  {
   "cell_type": "code",
   "execution_count": 8,
   "id": "ad2339de",
   "metadata": {},
   "outputs": [],
   "source": [
    "a = \"SAHIL\""
   ]
  },
  {
   "cell_type": "code",
   "execution_count": 22,
   "id": "a8e3fc7f",
   "metadata": {},
   "outputs": [
    {
     "name": "stdout",
     "output_type": "stream",
     "text": [
      "S\n",
      "A\n",
      "H\n",
      "I\n",
      "L\n"
     ]
    }
   ],
   "source": [
    "for i in a:\n",
    "    print(i)"
   ]
  },
  {
   "cell_type": "code",
   "execution_count": 16,
   "id": "a608e897",
   "metadata": {},
   "outputs": [
    {
     "name": "stdout",
     "output_type": "stream",
     "text": [
      "0\n",
      "1\n",
      "2\n",
      "3\n",
      "4\n",
      "5\n",
      "6\n",
      "7\n",
      "8\n",
      "9\n"
     ]
    }
   ],
   "source": [
    "for i in range(10):\n",
    "    print(i)"
   ]
  },
  {
   "cell_type": "code",
   "execution_count": 21,
   "id": "891627cc",
   "metadata": {},
   "outputs": [
    {
     "name": "stdout",
     "output_type": "stream",
     "text": [
      "enter a number to find table:5\n",
      "5 * 1 = 5\n",
      "5 * 2 = 10\n",
      "5 * 3 = 15\n",
      "5 * 4 = 20\n",
      "5 * 5 = 25\n",
      "5 * 6 = 30\n",
      "5 * 7 = 35\n",
      "5 * 8 = 40\n",
      "5 * 9 = 45\n",
      "5 * 10 = 50\n"
     ]
    }
   ],
   "source": [
    "p=int(input(\"enter a number to find table:\"))\n",
    "for i in range(1,11):\n",
    "    c=p*i\n",
    "    print(p,\"*\",i,\"=\",c)"
   ]
  },
  {
   "cell_type": "code",
   "execution_count": 37,
   "id": "a2f323d9",
   "metadata": {},
   "outputs": [],
   "source": [
    "k = 5\n",
    "while (k<5):\n",
    "    print(k)\n",
    "    k+=1"
   ]
  },
  {
   "cell_type": "code",
   "execution_count": 46,
   "id": "b75e790f",
   "metadata": {},
   "outputs": [
    {
     "name": "stdout",
     "output_type": "stream",
     "text": [
      "enter a number5\n",
      "5 * 1 = 5\n",
      "5 * 3 = 15\n",
      "5 * 5 = 25\n",
      "5 * 7 = 35\n",
      "5 * 9 = 45\n"
     ]
    }
   ],
   "source": [
    "a=int(input(\"enter a number\"))\n",
    "b=1\n",
    "while(b<11):\n",
    "    c=a*b\n",
    "    print(a,\"*\",b,\"=\",c)\n",
    "    b+=2"
   ]
  },
  {
   "cell_type": "code",
   "execution_count": 45,
   "id": "bc994656",
   "metadata": {},
   "outputs": [
    {
     "name": "stdout",
     "output_type": "stream",
     "text": [
      "5\n"
     ]
    }
   ],
   "source": [
    "print(b)\n"
   ]
  },
  {
   "cell_type": "code",
   "execution_count": 44,
   "id": "6d290d57",
   "metadata": {},
   "outputs": [],
   "source": [
    "b=5"
   ]
  },
  {
   "cell_type": "code",
   "execution_count": 49,
   "id": "20d76af2",
   "metadata": {},
   "outputs": [
    {
     "name": "stdout",
     "output_type": "stream",
     "text": [
      "sum of 1st 10 natural numbers 55\n"
     ]
    }
   ],
   "source": [
    "a=0\n",
    "for i in range(1,11):\n",
    "    a+=i\n",
    "print(\"sum of 1st 10 natural numbers\",a)"
   ]
  },
  {
   "cell_type": "code",
   "execution_count": 54,
   "id": "fcda814e",
   "metadata": {},
   "outputs": [
    {
     "name": "stdout",
     "output_type": "stream",
     "text": [
      "Enter the choice : 5\n",
      "Enter the value : 3\n",
      "Enter the value : 4\n",
      "Enter the value : 5\n",
      "Enter the value : 6\n",
      "Enter the value : 7\n",
      "Average of  5 number is 5.0\n"
     ]
    }
   ],
   "source": [
    "n=int(input(\"Enter the choice : \"))\n",
    "a=0\n",
    "for i in range (1,n+1):\n",
    "    num=int(input(\"Enter the value : \"))\n",
    "    a=a+num\n",
    "avg=a/n\n",
    "print(\"Average of\",n,\"number is\",avg)"
   ]
  },
  {
   "cell_type": "code",
   "execution_count": 56,
   "id": "4537afab",
   "metadata": {},
   "outputs": [
    {
     "name": "stdout",
     "output_type": "stream",
     "text": [
      "2 * 1 = 2\n",
      "2 * 2 = 4\n",
      "2 * 3 = 6\n",
      "2 * 4 = 8\n",
      "2 * 5 = 10\n",
      "nxt iteration\n",
      "3 * 1 = 3\n",
      "3 * 2 = 6\n",
      "3 * 3 = 9\n",
      "3 * 4 = 12\n",
      "3 * 5 = 15\n",
      "nxt iteration\n",
      "4 * 1 = 4\n",
      "4 * 2 = 8\n",
      "4 * 3 = 12\n",
      "4 * 4 = 16\n",
      "4 * 5 = 20\n",
      "nxt iteration\n",
      "5 * 1 = 5\n",
      "5 * 2 = 10\n",
      "5 * 3 = 15\n",
      "5 * 4 = 20\n",
      "5 * 5 = 25\n",
      "nxt iteration\n"
     ]
    }
   ],
   "source": [
    "for i in range(2,6):\n",
    "    for j in range(1,6):\n",
    "        print(i,\"*\",j,\"=\",i*j)\n",
    "    print(\"nxt iteration\")\n"
   ]
  },
  {
   "cell_type": "code",
   "execution_count": 57,
   "id": "3d4e4ec1",
   "metadata": {},
   "outputs": [
    {
     "name": "stdout",
     "output_type": "stream",
     "text": [
      "2 * 1 = 2\n",
      "2 * 2 = 4\n",
      "2 * 3 = 6\n",
      "2 * 4 = 8\n",
      "2 * 5 = 10\n",
      "next iteration\n",
      "3 * 1 = 3\n",
      "3 * 2 = 6\n",
      "3 * 3 = 9\n",
      "3 * 4 = 12\n",
      "3 * 5 = 15\n",
      "next iteration\n",
      "4 * 1 = 4\n",
      "4 * 2 = 8\n",
      "4 * 3 = 12\n",
      "4 * 4 = 16\n",
      "4 * 5 = 20\n",
      "next iteration\n",
      "5 * 1 = 5\n",
      "5 * 2 = 10\n",
      "5 * 3 = 15\n",
      "5 * 4 = 20\n",
      "5 * 5 = 25\n",
      "next iteration\n"
     ]
    }
   ],
   "source": [
    "for i in range(2,6):\n",
    "    j=1\n",
    "    while(j<=5):\n",
    "        print(i,\"*\",j,\"=\",i*j)\n",
    "        j+=1\n",
    "    print(\"next iteration\")    \n",
    "            "
   ]
  },
  {
   "cell_type": "code",
   "execution_count": 58,
   "id": "d65a645d",
   "metadata": {},
   "outputs": [
    {
     "name": "stdout",
     "output_type": "stream",
     "text": [
      "2 * 1 = 2\n",
      "2 * 2 = 4\n",
      "2 * 3 = 6\n",
      "2 * 4 = 8\n",
      "2 * 5 = 10\n",
      "next iteration\n",
      "\n",
      "3 * 1 = 3\n",
      "3 * 2 = 6\n",
      "3 * 3 = 9\n",
      "3 * 4 = 12\n",
      "3 * 5 = 15\n",
      "next iteration\n",
      "\n",
      "4 * 1 = 4\n",
      "4 * 2 = 8\n",
      "4 * 3 = 12\n",
      "4 * 4 = 16\n",
      "4 * 5 = 20\n",
      "next iteration\n",
      "\n",
      "5 * 1 = 5\n",
      "5 * 2 = 10\n",
      "5 * 3 = 15\n",
      "5 * 4 = 20\n",
      "5 * 5 = 25\n",
      "next iteration\n",
      "\n"
     ]
    }
   ],
   "source": [
    "i=2\n",
    "while(i<6):\n",
    "    for j in range(1,6):\n",
    "        print(i,\"*\",j,\"=\",i*j)\n",
    "    print(\"next iteration\")\n",
    "    print()\n",
    "    i+=1"
   ]
  },
  {
   "cell_type": "code",
   "execution_count": null,
   "id": "17a905b0",
   "metadata": {},
   "outputs": [],
   "source": []
  }
 ],
 "metadata": {
  "kernelspec": {
   "display_name": "Python 3 (ipykernel)",
   "language": "python",
   "name": "python3"
  },
  "language_info": {
   "codemirror_mode": {
    "name": "ipython",
    "version": 3
   },
   "file_extension": ".py",
   "mimetype": "text/x-python",
   "name": "python",
   "nbconvert_exporter": "python",
   "pygments_lexer": "ipython3",
   "version": "3.9.12"
  }
 },
 "nbformat": 4,
 "nbformat_minor": 5
}
